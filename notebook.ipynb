{
 "cells": [
  {
   "cell_type": "code",
   "execution_count": null,
   "metadata": {},
   "outputs": [],
   "source": [
    "%load_ext autoreload\n",
    "%autoreload 2"
   ]
  },
  {
   "cell_type": "code",
   "execution_count": null,
   "metadata": {},
   "outputs": [],
   "source": [
    "from Robot.sawyer import Sawyer\n",
    "import rospy\n",
    "import numpy as np\n",
    "\n",
    "rospy.init_node('notebook_node')\n",
    "robot = Sawyer()"
   ]
  },
  {
   "cell_type": "markdown",
   "metadata": {},
   "source": [
    "##### Error Recovery"
   ]
  },
  {
   "cell_type": "code",
   "execution_count": null,
   "metadata": {},
   "outputs": [],
   "source": [
    "!rostopic pub -1 /franka_ros_interface/franka_control/error_recovery/goal franka_msgs/ErrorRecoveryActionGoal \"{}\""
   ]
  },
  {
   "attachments": {},
   "cell_type": "markdown",
   "metadata": {},
   "source": [
    "#### Record cartesian velocities"
   ]
  },
  {
   "cell_type": "code",
   "execution_count": null,
   "metadata": {},
   "outputs": [],
   "source": [
    "cart_velocities = []\n",
    "while True:\n",
    "    cart_vel = robot.get_endpoint_velocity_in_base_frame()\n",
    "    cart_velocities.append(cart_vel)\n",
    "    rospy.sleep(0.5)"
   ]
  },
  {
   "cell_type": "code",
   "execution_count": null,
   "metadata": {},
   "outputs": [],
   "source": [
    "len(cart_velocities)"
   ]
  },
  {
   "cell_type": "code",
   "execution_count": null,
   "metadata": {},
   "outputs": [],
   "source": [
    "robot.robot.set_command_timeout(1.0)\n",
    "for cart_vel in cart_velocities:\n",
    "    robot.set_endpoint_velocity_in_base_frame(-cart_vel)\n",
    "    rospy.sleep(0.5)\n",
    "#robot.robot.exit_control_mode() "
   ]
  },
  {
   "attachments": {},
   "cell_type": "markdown",
   "metadata": {},
   "source": [
    "#### Record joint velocities"
   ]
  },
  {
   "cell_type": "code",
   "execution_count": null,
   "metadata": {},
   "outputs": [],
   "source": [
    "joint_velocities = []\n",
    "while True:\n",
    "    joint_velocity = robot.robot.velocities()\n",
    "    joint_velocities.append(joint_velocity)\n",
    "    rospy.sleep(0.5)"
   ]
  },
  {
   "cell_type": "code",
   "execution_count": null,
   "metadata": {},
   "outputs": [],
   "source": [
    "len(joint_velocities)"
   ]
  },
  {
   "cell_type": "code",
   "execution_count": null,
   "metadata": {},
   "outputs": [],
   "source": [
    "robot.robot.set_command_timeout(1.0)\n",
    "for joint_velocity in joint_velocities:\n",
    "    robot.robot.exec_velocity_cmd(joint_velocity)\n",
    "    rospy.sleep(0.5)\n",
    "#robot.robot.exit_control_mode() "
   ]
  },
  {
   "attachments": {},
   "cell_type": "markdown",
   "metadata": {},
   "source": [
    "##### Stop velocity control in between with some velocity value"
   ]
  },
  {
   "cell_type": "code",
   "execution_count": null,
   "metadata": {},
   "outputs": [],
   "source": [
    "robot.robot.set_command_timeout(1.0)\n",
    "for i, joint_velocity in enumerate(joint_velocities):\n",
    "    robot.robot.exec_velocity_cmd(joint_velocity)\n",
    "    rospy.sleep(0.5)\n",
    "    if i == 10: exit()\n",
    "robot.robot.exit_control_mode() "
   ]
  },
  {
   "attachments": {},
   "cell_type": "markdown",
   "metadata": {},
   "source": [
    "#### Record Efforts/torques and replay"
   ]
  },
  {
   "cell_type": "code",
   "execution_count": null,
   "metadata": {},
   "outputs": [],
   "source": [
    "joint_efforts = []\n",
    "while True:\n",
    "    joint_effort = robot.robot.efforts()\n",
    "    joint_efforts.append(joint_effort)\n",
    "    rospy.sleep(0.5)"
   ]
  },
  {
   "cell_type": "code",
   "execution_count": null,
   "metadata": {},
   "outputs": [],
   "source": [
    "len(joint_efforts)"
   ]
  },
  {
   "cell_type": "code",
   "execution_count": null,
   "metadata": {},
   "outputs": [],
   "source": [
    "robot.robot.set_command_timeout(1.0)\n",
    "for joint_effort in joint_efforts:\n",
    "    robot.robot.exec_torque_cmd(joint_effort)\n",
    "    rospy.sleep(0.5)\n",
    "#robot.robot.exit_control_mode() "
   ]
  },
  {
   "attachments": {},
   "cell_type": "markdown",
   "metadata": {},
   "source": [
    "#### Test Joint Position Control"
   ]
  },
  {
   "cell_type": "code",
   "execution_count": null,
   "metadata": {},
   "outputs": [],
   "source": [
    "\n",
    "from Common import config\n",
    "robot.move_to_joint_angles(config.ROBOT_INIT_JOINT_ANGLES)\n"
   ]
  }
 ],
 "metadata": {
  "kernelspec": {
   "display_name": "Python 3.8.10 64-bit",
   "language": "python",
   "name": "python3"
  },
  "language_info": {
   "codemirror_mode": {
    "name": "ipython",
    "version": 3
   },
   "file_extension": ".py",
   "mimetype": "text/x-python",
   "name": "python",
   "nbconvert_exporter": "python",
   "pygments_lexer": "ipython3",
   "version": "3.8.10"
  },
  "orig_nbformat": 4,
  "vscode": {
   "interpreter": {
    "hash": "31f2aee4e71d21fbe5cf8b01ff0e069b9275f58929596ceb00d14d90e3e16cd6"
   }
  }
 },
 "nbformat": 4,
 "nbformat_minor": 2
}
