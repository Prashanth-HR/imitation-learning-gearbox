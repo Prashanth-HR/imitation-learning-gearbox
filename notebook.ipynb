{
 "cells": [
  {
   "cell_type": "code",
   "execution_count": null,
   "metadata": {},
   "outputs": [],
   "source": [
    "%load_ext autoreload\n",
    "%autoreload 2\n",
    "from Robot.sawyer import Sawyer\n",
    "import rospy\n",
    "import numpy as np\n",
    "from franka_interface.robot_enable import RobotEnable\n",
    "\n",
    "rospy.init_node('notebook_node')\n",
    "robot = Sawyer()\n",
    "robot_enable  = RobotEnable()"
   ]
  },
  {
   "cell_type": "markdown",
   "metadata": {},
   "source": [
    "##### Error Recovery"
   ]
  },
  {
   "cell_type": "code",
   "execution_count": null,
   "metadata": {},
   "outputs": [],
   "source": [
    "!rostopic pub -1 /franka_ros_interface/franka_control/error_recovery/goal franka_msgs/ErrorRecoveryActionGoal \"{}\""
   ]
  },
  {
   "cell_type": "code",
   "execution_count": null,
   "metadata": {},
   "outputs": [],
   "source": [
    "robot_enable.enable() "
   ]
  },
  {
   "attachments": {},
   "cell_type": "markdown",
   "metadata": {},
   "source": [
    "#### Endpoint force to joint Torque\n",
    "\n",
    "- change the J_T^-1_T to just J^-1"
   ]
  },
  {
   "cell_type": "code",
   "execution_count": null,
   "metadata": {},
   "outputs": [],
   "source": [
    "# tau = J_T^-1 @ F\n",
    "\n",
    "endpoint_effort_dist = robot.robot.endpoint_effort()\n",
    "force = endpoint_effort_dist['force'].tolist()\n",
    "torque = endpoint_effort_dist['torque'].tolist()\n",
    "endpoint_effort = np.array([*force,*torque])\n",
    "\n",
    "jacobian_T = robot._compute_jacobian().T\n",
    "print('jacobian_T shape: {}'.format(jacobian_T.shape))\n",
    "jacobian_T_inv = np.linalg.pinv(jacobian_T)\n",
    "\n",
    "joint_torques = np.dot(jacobian_T_inv.T, endpoint_effort)\n",
    "print('joint_torques = {}'.format(joint_torques))\n",
    "#rospy.sleep(5.0)\n",
    "#while True:\n",
    "robot.robot.exec_torque_cmd(joint_torques)\n",
    "#rospy.sleep(0.5)\n",
    "# rospy.sleep(0.5)\n",
    "# robot.robot.exec_torque_cmd([0.0]*7)"
   ]
  },
  {
   "cell_type": "code",
   "execution_count": null,
   "metadata": {},
   "outputs": [],
   "source": [
    "robot.robot.efforts()"
   ]
  },
  {
   "cell_type": "code",
   "execution_count": null,
   "metadata": {},
   "outputs": [],
   "source": [
    "rospy.sleep(2.0)\n",
    "while True:\n",
    "    joint_torques = robot.robot.efforts()\n",
    "    print('joint_torques = {}'.format(joint_torques))\n",
    "    rospy.sleep(0.2)"
   ]
  },
  {
   "attachments": {},
   "cell_type": "markdown",
   "metadata": {},
   "source": [
    "#### Test Joint Position Control"
   ]
  },
  {
   "cell_type": "code",
   "execution_count": null,
   "metadata": {},
   "outputs": [],
   "source": [
    "from Common import config\n",
    "from Robot import kdl_utils\n",
    "\n",
    "bottleneck_pose_vector_vertical = np.load('../Data/' + str(config.TASK_NAME) + '/Single_Demo/Raw/bottleneck_pose_vector_vertical.npy')\n",
    "bottleneck_pose_vector = np.load('../Data/' + str(config.TASK_NAME) + '/Single_Demo/Raw/bottleneck_pose_vector.npy')\n",
    "\n",
    "bottleneck_pose_vertical = kdl_utils.create_pose_from_vector(bottleneck_pose_vector_vertical)\n",
    "bottleneck_pose = kdl_utils.create_pose_from_vector(bottleneck_pose_vector)\n",
    "\n",
    "#print('{},{}'.format(bottleneck_pose_vertical.M.GetRPY(),bottleneck_pose.M.GetRPY()))\n",
    "target_pose_3dof = kdl_utils.create_pose_3dof_from_pose(bottleneck_pose_vertical)\n",
    "bottleneck_pose = kdl_utils.create_vertical_pose_from_x_y_z_theta(target_pose_3dof[0], target_pose_3dof[1], bottleneck_pose_vertical.p[2], target_pose_3dof[2])\n",
    "print('{},{}'.format(bottleneck_pose_vertical.M.GetRPY(),bottleneck_pose.M.GetRPY()))\n",
    "#robot.move_to_pose(bottleneck_pose)"
   ]
  },
  {
   "attachments": {},
   "cell_type": "markdown",
   "metadata": {},
   "source": [
    "##### Test Joint Position and Velocity Control (Together)"
    "import tf_conversions.posemath as conv\n",
    "pose_matrix = robot.get_endpoint_pose()\n",
    "pose = conv.toMsg(pose_matrix)\n",
    "pose"
   ]
  },
  {
   "cell_type": "code",
   "execution_count": null,
   "metadata": {},
   "outputs": [],
   "source": [
    "target_frame = pose_matrix\n",
    "current_frame = robot.get_endpoint_pose()\n",
    "transformation_from_current_to_target =  target_frame * current_frame.Inverse()\n",
    "# The axis-angle representation is relative to the init frame, i.e. the end-effector's own frame\n",
    "current_to_target_axis_angle_endpoint_frame = transformation_from_current_to_target.M.GetRot()\n",
    "print('current_to_target_axis_angle_endpoint_frame:{}'.format(current_to_target_axis_angle_endpoint_frame))\n",
    "# Convert this so that it is relative to the base frame\n",
    "current_to_target_axis_angle = current_frame.M * current_to_target_axis_angle_endpoint_frame \n",
    "print(\"current_to_target_axis_angle :{}\".format(current_to_target_axis_angle))\n",
    "current_to_target_rotation_angle = np.linalg.norm(np.array([current_to_target_axis_angle[0], current_to_target_axis_angle[1], current_to_target_axis_angle[2]]))\n"
   ]
  },
  {
   "cell_type": "code",
   "execution_count": null,
   "metadata": {},
   "outputs": [],
   "source": [
    "import PyKDL\n",
    "c_frame_M = np.array(current_frame.M)\n",
    "c_T_frame = np.array(current_to_target_axis_angle_endpoint_frame)\n",
    "print('current_frame.M: {}'.format(c_frame_M.shape))\n",
    "print('current_to_target_axis_angle_endpoint_frame: {}'.format(c_T_frame))\n",
    "print(np.array([1,2,3]).shape)"
   ]
  },
  {
   "cell_type": "code",
   "execution_count": null,
   "metadata": {},
   "outputs": [],
   "source": [
    "robot.robot.move_to_neutral()"
   ]
  },
  {
   "cell_type": "code",
   "execution_count": null,
   "metadata": {},
   "outputs": [],
   "source": [
    "target_pose = robot.get_endpoint_pose()\n",
    "#robot.robot.set_command_timeout(10.0)\n",
    "from Common import config\n",
    "robot.move_to_joint_angles(config.ROBOT_INIT_JOINT_ANGLES)\n",
    "rospy.sleep(1.0)\n",
    "robot.move_to_pose(config.ROBOT_INIT_POSE)\n",
    "rospy.sleep(1.0)\n",
    "#robot.move_to_pose(bottleneck_pose)\n",
    "while True:\n",
    "    status = robot.move_towards_pose(bottleneck_pose, 0.05, 2.0)\n",
    "    if status:\n",
    "       break\n",
    "#rospy.sleep(0.5)\n",
    "robot.move_to_joint_angles(config.ROBOT_INIT_JOINT_ANGLES)\n"
   ]
  },
  {
   "cell_type": "code",
   "execution_count": null,
   "metadata": {},
   "outputs": [],
   "source": [
    "from Common import config\n",
    "rate = rospy.Rate(30)\n",
    "\n",
    "for i in np.arange(1):\n",
    "    print(str(i)+\"/100\")\n",
    "    #rospy.sleep(0.5)\n",
    "    #robot.move_to_joint_angles(config.ROBOT_INIT_JOINT_ANGLES)\n",
    "    #rospy.sleep(0.5)\n",
    "    while True:\n",
    "        status = robot.move_towards_pose(pose_matrix, 0.10, 0.5)\n",
    "        rate.sleep()\n",
    "        if status:\n",
    "            break\n",
    "    rospy.sleep(0.5)\n",
    "    #robot.robot.move_to_neutral()\n",
    "    #rate.sleep()\n",
    "#robot.move_to_pose(config.ROBOT_INIT_POSE)\n",
    "#robot.move_to_joint_angles(config.ROBOT_INIT_JOINT_ANGLES)\n",
    "\n"
   ]
  },
  {
   "cell_type": "markdown",
   "metadata": {},
   "source": [
    "##### Plot Self-supervised trajectories"
   ]
  },
  {
   "cell_type": "code",
   "execution_count": null,
   "metadata": {},
   "outputs": [],
   "source": [
    "%matplotlib qt\n",
    "\n",
    "import matplotlib.pyplot as plt\n",
    "from mpl_toolkits import mplot3d\n",
    "\n",
    "#poses : [KDLFrames]\n",
    "def plot_poses(poses):\n",
    "    fig = plt.figure()\n",
    "    ax = fig.add_subplot(projection ='3d')\n",
    "    for pose in poses:\n",
    "        position = pose.p\n",
    "        orientation = pose.M.GetQuaternion()\n",
    "        ax.scatter(position[0], position[1], position[2])\n",
    "    \n",
    "    ax.set_xlabel('X Label')\n",
    "    ax.set_ylabel('Y Label')\n",
    "    ax.set_zlabel('Z Label')\n",
    "    ax.set_title('Ploted poses')\n",
    "    plt.show()"
   ]
  },
  {
   "cell_type": "code",
   "execution_count": null,
   "metadata": {},
   "outputs": [],
   "source": [
    "# Plot autolated trajectories\n",
    "\n",
    "from mpl_toolkits import mplot3d\n",
    "import numpy as np\n",
    "import matplotlib.pyplot as plt\n",
    "from matplotlib.offsetbox import OffsetImage, AnnotationBbox\n",
    "fig = plt.figure()\n",
    "# syntax for 3-D projection\n",
    "ax = plt.axes(projection ='3d')\n",
    "# Data path\n",
    "task_name = 'Into_Cup'\n",
    "num_trajectories = 20\n",
    "image_path = '../Data/' + str(task_name) + '/Automatic_Coarse/Image_To_Pose_Dataset/images_' + str(num_trajectories) + '.npy'\n",
    "pose_xysc_path = '../Data/' + str(task_name) + '/Automatic_Coarse/Image_To_Pose_Dataset/endpoint_to_bottleneck_poses_3dof_sin_cos_' + str(num_trajectories) + '.npy'\n",
    "pose_z_path = '../Data/' + str(task_name) + '/Automatic_Coarse/Image_To_Pose_Dataset/endpoint_heights_' + str(num_trajectories) + '.npy'\n",
    "\n",
    "# Data load\n",
    "images = np.load(image_path)\n",
    "poses_xysc = np.load(pose_xysc_path)\n",
    "poses_z = np.load(pose_z_path)\n",
    "\n",
    "# print(images.shape)\n",
    "# print(poses_z)\n",
    "# print(images[0].transpose((1, -1, 0)).shape)\n",
    "for index in range(images.shape[0]):\n",
    "    pose_x = poses_xysc[index][0]\n",
    "    pose_y = poses_xysc[index][1]\n",
    "    pose_z = poses_z[index]\n",
    "    #print('x:{} , y:{} , z:{}'.format(pose_xy[0],pose_xy[1],pose_z))\n",
    "    ax.scatter(pose_x,pose_y,pose_z)\n",
    "\n",
    "    # add image annotations\n",
    "    # ab = AnnotationBbox(OffsetImage(images[index].transpose((1, -1, 0)) ), (pose_x, pose_y, pose_z), frameon=False)\n",
    "    # ax.add_artist(ab)\n",
    "\n",
    "# syntax for plotting\n",
    "ax.set_title('Automated trajectories')\n",
    "plt.show()"
   ]
  },
  {
   "attachments": {},
   "cell_type": "markdown",
   "metadata": {},
   "source": [
    "#### Record cartesian velocities"
   ]
  },
  {
   "cell_type": "code",
   "execution_count": null,
   "metadata": {},
   "outputs": [],
   "source": [
    "cart_velocities = []\n",
    "while True:\n",
    "    lin_vel, ang_vel = robot.get_endpoint_velocity_in_base_frame()\n",
    "    cart_velocities.append(np.array([*lin_vel,*ang_vel]))\n",
    "    rospy.sleep(0.5)"
   ]
  },
  {
   "cell_type": "code",
   "execution_count": null,
   "metadata": {},
   "outputs": [],
   "source": [
    "len(cart_velocities)"
   ]
  },
  {
   "cell_type": "code",
   "execution_count": null,
   "metadata": {},
   "outputs": [],
   "source": [
    "robot.robot.set_command_timeout(1.0)\n",
    "for cart_vel in cart_velocities:\n",
    "    robot.set_endpoint_velocity_in_base_frame(-cart_vel)\n",
    "    rospy.sleep(0.5)\n",
    "robot.robot.exit_control_mode() "
   ]
  },
  {
   "attachments": {},
   "cell_type": "markdown",
   "metadata": {},
   "source": [
    "#### Record joint velocities"
   ]
  },
  {
   "cell_type": "code",
   "execution_count": null,
   "metadata": {},
   "outputs": [],
   "source": [
    "joint_velocities = []\n",
    "while True:\n",
    "    joint_velocity = robot.robot.velocities()\n",
    "    joint_velocities.append(joint_velocity)\n",
    "    rospy.sleep(0.5)"
   ]
  },
  {
   "cell_type": "code",
   "execution_count": null,
   "metadata": {},
   "outputs": [],
   "source": [
    "len(joint_velocities)"
   ]
  },
  {
   "cell_type": "code",
   "execution_count": null,
   "metadata": {},
   "outputs": [],
   "source": [
    "robot.robot.set_command_timeout(1.0)\n",
    "for joint_velocity in joint_velocities:\n",
    "    robot.robot.exec_velocity_cmd(joint_velocity)\n",
    "    rospy.sleep(0.5)\n",
    "#robot.robot.exit_control_mode() "
   ]
  },
  {
   "attachments": {},
   "cell_type": "markdown",
   "metadata": {},
   "source": [
    "#### Record Efforts/torques and replay"
   ]
  },
  {
   "cell_type": "code",
   "execution_count": null,
   "metadata": {},
   "outputs": [],
   "source": [
    "joint_efforts = []\n",
    "while True:\n",
    "    joint_effort = robot.robot.efforts()\n",
    "    joint_efforts.append(joint_effort)\n",
    "    rospy.sleep(0.5)"
   ]
  },
  {
   "cell_type": "code",
   "execution_count": null,
   "metadata": {},
   "outputs": [],
   "source": [
    "len(joint_efforts)"
   ]
  },
  {
   "cell_type": "code",
   "execution_count": null,
   "metadata": {},
   "outputs": [],
   "source": [
    "robot.robot.set_command_timeout(1.0)\n",
    "for joint_effort in joint_efforts:\n",
    "    robot.robot.exec_torque_cmd(joint_effort)\n",
    "    rospy.sleep(0.5)\n",
    "#robot.robot.exit_control_mode() "
   ]
  }
 ],
 "metadata": {
  "kernelspec": {
   "display_name": "Python 3.8.10 64-bit",
   "language": "python",
   "name": "python3"
  },
  "language_info": {
   "codemirror_mode": {
    "name": "ipython",
    "version": 3
   },
   "file_extension": ".py",
   "mimetype": "text/x-python",
   "name": "python",
   "nbconvert_exporter": "python",
   "pygments_lexer": "ipython3",
   "version": "3.8.10"
  },
  "orig_nbformat": 4,
  "vscode": {
   "interpreter": {
    "hash": "31f2aee4e71d21fbe5cf8b01ff0e069b9275f58929596ceb00d14d90e3e16cd6"
   }
  }
 },
 "nbformat": 4,
 "nbformat_minor": 2
}
