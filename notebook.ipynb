{
 "cells": [
  {
   "cell_type": "code",
   "execution_count": null,
   "metadata": {},
   "outputs": [],
   "source": [
    "%load_ext autoreload\n",
    "%autoreload 2\n",
    "from Robot.sawyer import Sawyer\n",
    "import rospy\n",
    "import numpy as np\n",
    "from franka_interface.robot_enable import RobotEnable\n",
    "\n",
    "rospy.init_node('notebook_node')\n",
    "robot = Sawyer()\n",
    "robot_enable  = RobotEnable()"
   ]
  },
  {
   "cell_type": "markdown",
   "metadata": {},
   "source": [
    "##### Error Recovery"
   ]
  },
  {
   "cell_type": "code",
   "execution_count": null,
   "metadata": {},
   "outputs": [],
   "source": [
    "!rostopic pub -1 /franka_ros_interface/franka_control/error_recovery/goal franka_msgs/ErrorRecoveryActionGoal \"{}\""
   ]
  },
  {
   "cell_type": "code",
   "execution_count": null,
   "metadata": {},
   "outputs": [],
   "source": [
    "robot_enable.enable() "
   ]
  },
  {
   "attachments": {},
   "cell_type": "markdown",
   "metadata": {},
   "source": [
    "#### Test Joint Position Control"
   ]
  },
  {
   "cell_type": "code",
   "execution_count": null,
   "metadata": {},
   "outputs": [],
   "source": [
    "from Common import config\n",
    "from Robot import kdl_utils\n",
    "\n",
    "bottleneck_pose_vector_vertical = np.load('../Data/' + str(config.TASK_NAME) + '/Single_Demo/Raw/bottleneck_pose_vector_vertical.npy')\n",
    "bottleneck_pose_vector = np.load('../Data/' + str(config.TASK_NAME) + '/Single_Demo/Raw/bottleneck_pose_vector.npy')\n",
    "\n",
    "bottleneck_pose_vertical = kdl_utils.create_pose_from_vector(bottleneck_pose_vector_vertical)\n",
    "bottleneck_pose = kdl_utils.create_pose_from_vector(bottleneck_pose_vector)\n",
    "\n",
    "#print('{},{}'.format(bottleneck_pose_vertical.M.GetRPY(),bottleneck_pose.M.GetRPY()))\n",
    "target_pose_3dof = kdl_utils.create_pose_3dof_from_pose(bottleneck_pose_vertical)\n",
    "bottleneck_pose = kdl_utils.create_vertical_pose_from_x_y_z_theta(target_pose_3dof[0], target_pose_3dof[1], bottleneck_pose_vertical.p[2], target_pose_3dof[2])\n",
    "print('{},{}'.format(bottleneck_pose_vertical.M.GetRPY(),bottleneck_pose.M.GetRPY()))\n",
    "#robot.move_to_pose(bottleneck_pose)"
   ]
  },
  {
   "cell_type": "code",
   "execution_count": null,
   "metadata": {},
   "outputs": [],
   "source": [
    "robot.control_manager.set_motion_controller(robot.control_manager.default_controller)"
   ]
  },
  {
   "cell_type": "code",
   "execution_count": null,
   "metadata": {},
   "outputs": [],
   "source": [
    "#robot.robot.set_command_timeout(10.0)\n",
    "from Common import config\n",
    "robot.move_to_joint_angles(config.ROBOT_INIT_JOINT_ANGLES)\n",
    "while True:\n",
    "    status = robot.move_towards_pose(bottleneck_pose, 0.10, 0.05)\n",
    "    if status:\n",
    "       break\n",
    "#rospy.sleep(0.5)\n",
    "#robot.move_to_pose(config.ROBOT_INIT_POSE)\n",
    "#robot.move_to_joint_angles(config.ROBOT_INIT_JOINT_ANGLES)\n",
    "\n"
   ]
  },
  {
   "cell_type": "code",
   "execution_count": null,
   "metadata": {},
   "outputs": [],
   "source": [
    "#robot.robot.set_command_timeout(1.5)\n",
    "robot.move_to_pose(config.ROBOT_INIT_POSE)\n",
    "\n",
    "\n",
    "        \n",
    "        "
   ]
  },
  {
   "attachments": {},
   "cell_type": "markdown",
   "metadata": {},
   "source": [
    "#### Record cartesian velocities"
   ]
  },
  {
   "cell_type": "code",
   "execution_count": null,
   "metadata": {},
   "outputs": [],
   "source": [
    "cart_velocities = []\n",
    "while True:\n",
    "    lin_vel, ang_vel = robot.get_endpoint_velocity_in_base_frame()\n",
    "    cart_velocities.append(np.array([*lin_vel,*ang_vel]))\n",
    "    rospy.sleep(0.5)"
   ]
  },
  {
   "cell_type": "code",
   "execution_count": null,
   "metadata": {},
   "outputs": [],
   "source": [
    "len(cart_velocities)"
   ]
  },
  {
   "cell_type": "code",
   "execution_count": null,
   "metadata": {},
   "outputs": [],
   "source": [
    "robot.robot.set_command_timeout(1.0)\n",
    "for cart_vel in cart_velocities:\n",
    "    robot.set_endpoint_velocity_in_base_frame(-cart_vel)\n",
    "    rospy.sleep(0.5)\n",
    "robot.robot.exit_control_mode() "
   ]
  },
  {
   "attachments": {},
   "cell_type": "markdown",
   "metadata": {},
   "source": [
    "#### Record joint velocities"
   ]
  },
  {
   "cell_type": "code",
   "execution_count": null,
   "metadata": {},
   "outputs": [],
   "source": [
    "joint_velocities = []\n",
    "while True:\n",
    "    joint_velocity = robot.robot.velocities()\n",
    "    joint_velocities.append(joint_velocity)\n",
    "    rospy.sleep(0.5)"
   ]
  },
  {
   "cell_type": "code",
   "execution_count": null,
   "metadata": {},
   "outputs": [],
   "source": [
    "len(joint_velocities)"
   ]
  },
  {
   "cell_type": "code",
   "execution_count": null,
   "metadata": {},
   "outputs": [],
   "source": [
    "robot.robot.set_command_timeout(1.0)\n",
    "for joint_velocity in joint_velocities:\n",
    "    robot.robot.exec_velocity_cmd(joint_velocity)\n",
    "    rospy.sleep(0.5)\n",
    "#robot.robot.exit_control_mode() "
   ]
  },
  {
   "attachments": {},
   "cell_type": "markdown",
   "metadata": {},
   "source": [
    "##### Stop velocity control in between with some velocity value"
   ]
  },
  {
   "cell_type": "code",
   "execution_count": null,
   "metadata": {},
   "outputs": [],
   "source": [
    "robot.robot.set_command_timeout(1.0)\n",
    "for i, joint_velocity in enumerate(joint_velocities):\n",
    "    robot.robot.exec_velocity_cmd(joint_velocity)\n",
    "    rospy.sleep(0.5)\n",
    "    if i == 10: exit()\n",
    "robot.robot.exit_control_mode() "
   ]
  },
  {
   "attachments": {},
   "cell_type": "markdown",
   "metadata": {},
   "source": [
    "#### Record Efforts/torques and replay"
   ]
  },
  {
   "cell_type": "code",
   "execution_count": null,
   "metadata": {},
   "outputs": [],
   "source": [
    "joint_efforts = []\n",
    "while True:\n",
    "    joint_effort = robot.robot.efforts()\n",
    "    joint_efforts.append(joint_effort)\n",
    "    rospy.sleep(0.5)"
   ]
  },
  {
   "cell_type": "code",
   "execution_count": null,
   "metadata": {},
   "outputs": [],
   "source": [
    "len(joint_efforts)"
   ]
  },
  {
   "cell_type": "code",
   "execution_count": null,
   "metadata": {},
   "outputs": [],
   "source": [
    "robot.robot.set_command_timeout(1.0)\n",
    "for joint_effort in joint_efforts:\n",
    "    robot.robot.exec_torque_cmd(joint_effort)\n",
    "    rospy.sleep(0.5)\n",
    "#robot.robot.exit_control_mode() "
   ]
  }
 ],
 "metadata": {
  "kernelspec": {
   "display_name": "Python 3.8.10 64-bit",
   "language": "python",
   "name": "python3"
  },
  "language_info": {
   "codemirror_mode": {
    "name": "ipython",
    "version": 3
   },
   "file_extension": ".py",
   "mimetype": "text/x-python",
   "name": "python",
   "nbconvert_exporter": "python",
   "pygments_lexer": "ipython3",
   "version": "3.8.10"
  },
  "orig_nbformat": 4,
  "vscode": {
   "interpreter": {
    "hash": "31f2aee4e71d21fbe5cf8b01ff0e069b9275f58929596ceb00d14d90e3e16cd6"
   }
  }
 },
 "nbformat": 4,
 "nbformat_minor": 2
}
