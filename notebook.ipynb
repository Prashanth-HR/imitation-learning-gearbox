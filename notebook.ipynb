{
 "cells": [
  {
   "cell_type": "code",
   "execution_count": null,
   "metadata": {},
   "outputs": [],
   "source": [
    "%load_ext autoreload\n",
    "%autoreload 2\n",
    "\n",
    "from Robot.sawyer import Sawyer\n",
    "import rospy\n",
    "import numpy as np\n",
    "\n",
    "rospy.init_node('notebook_node')\n",
    "robot = Sawyer()"
   ]
  },
  {
   "cell_type": "markdown",
   "metadata": {},
   "source": [
    "##### Error Recovery"
   ]
  },
  {
   "cell_type": "code",
   "execution_count": 55,
   "metadata": {},
   "outputs": [
    {
     "name": "stdout",
     "output_type": "stream",
     "text": [
      "publishing and latching message for 3.0 seconds\n"
     ]
    }
   ],
   "source": [
    "!rostopic pub -1 /franka_ros_interface/franka_control/error_recovery/goal franka_msgs/ErrorRecoveryActionGoal \"{}\""
   ]
  },
  {
   "cell_type": "code",
   "execution_count": 56,
   "metadata": {},
   "outputs": [],
   "source": [
    "robot.robot.set_command_timeout(5.0)\n"
   ]
  },
  {
   "cell_type": "code",
   "execution_count": null,
   "metadata": {},
   "outputs": [],
   "source": [
    "cartesian_vel = [0.01, 0.0, 0.0, 0.0, 0.0, 0.0]\n",
    "robot.set_endpoint_velocity_in_base_frame(cartesian_vel) # send a velocity command\n"
   ]
  },
  {
   "cell_type": "code",
   "execution_count": 54,
   "metadata": {},
   "outputs": [],
   "source": [
    "# velocity_controller = robot.control_manager.joint_velocity_controller\n",
    "# print(velocity_controller)\n",
    "# active_controller = robot.control_manager.set_motion_controller(velocity_controller)\n",
    "# print(active_controller)\n",
    "# robot.robot.set_command_timeout(5.0)\n",
    "joint_velocities = [0.0, 0.0, 0.0, 0.0, 0.01, 0.0, 0.0]\n",
    "robot.robot.exec_velocity_cmd(joint_velocities)\n",
    "\n",
    "# add a delay of 0.5 sec\n",
    "# robot.robot.exit_control_mode()\n",
    "# del robot\n",
    "# robot = Sawyer()\n",
    "rospy.sleep(0.5)\n",
    "\n",
    "\n",
    "\n",
    "#robot.control_manager.stop_controller(velocity_controller)\n"
   ]
  },
  {
   "cell_type": "code",
   "execution_count": null,
   "metadata": {},
   "outputs": [],
   "source": [
    "\n",
    "\n",
    "rospy.sleep(1.5)\n",
    "\n",
    "from Common import config\n",
    "robot.move_to_joint_angles(config.ROBOT_INIT_JOINT_ANGLES)"
   ]
  }
 ],
 "metadata": {
  "kernelspec": {
   "display_name": "Python 3.8.10 64-bit",
   "language": "python",
   "name": "python3"
  },
  "language_info": {
   "codemirror_mode": {
    "name": "ipython",
    "version": 3
   },
   "file_extension": ".py",
   "mimetype": "text/x-python",
   "name": "python",
   "nbconvert_exporter": "python",
   "pygments_lexer": "ipython3",
   "version": "3.8.10"
  },
  "orig_nbformat": 4,
  "vscode": {
   "interpreter": {
    "hash": "31f2aee4e71d21fbe5cf8b01ff0e069b9275f58929596ceb00d14d90e3e16cd6"
   }
  }
 },
 "nbformat": 4,
 "nbformat_minor": 2
}
