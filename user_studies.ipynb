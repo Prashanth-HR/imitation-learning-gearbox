{
 "cells": [
  {
   "cell_type": "code",
   "execution_count": null,
   "metadata": {},
   "outputs": [],
   "source": [
    "from Common import utils\n",
    "from Robot import kdl_utils\n",
    "import numpy as np\n",
    "import tf_conversions"
   ]
  },
  {
   "cell_type": "markdown",
   "metadata": {},
   "source": [
    "#### Error recovery"
   ]
  },
  {
   "cell_type": "code",
   "execution_count": null,
   "metadata": {},
   "outputs": [],
   "source": [
    "!rostopic pub -1 /franka_ros_interface/franka_control/error_recovery/goal franka_msgs/ErrorRecoveryActionGoal \"{}\""
   ]
  },
  {
   "cell_type": "markdown",
   "metadata": {},
   "source": [
    "#### Convert teleop recorded data to get bottelneck poses"
   ]
  },
  {
   "cell_type": "markdown",
   "metadata": {},
   "source": [
    "##### for 100bw"
   ]
  },
  {
   "cell_type": "code",
   "execution_count": null,
   "metadata": {},
   "outputs": [],
   "source": [
    "weights = [0, 0, 0, 0, 1]"
   ]
  },
  {
   "cell_type": "markdown",
   "metadata": {},
   "source": [
    "#### weighted B-pose"
   ]
  },
  {
   "cell_type": "code",
   "execution_count": null,
   "metadata": {},
   "outputs": [],
   "source": [
    "denomin = 2+5+20+50+100\n",
    "weights = [2/denomin, 5/denomin, 20/denomin, 50/denomin, 100/denomin]"
   ]
  },
  {
   "cell_type": "markdown",
   "metadata": {},
   "source": [
    "##### Based on prev *weights* save data for Coarse-to-fine self-learning"
   ]
  },
  {
   "cell_type": "code",
   "execution_count": null,
   "metadata": {},
   "outputs": [],
   "source": [
    "data_folders = np.arange(1,23,1)\n",
    "\n",
    "for folder in data_folders:\n",
    "    teleopp_data_path = '/home/prashanth/catkin_ws/src/tele_operation/scripts/data/' + str(folder)\n",
    "    filenames = [\"/traj_B_bw2.npy\", \"/traj_B_bw5.npy\", \"/traj_B_bw20.npy\", \"/traj_B_bw50.npy\", \"/traj_B_bw100.npy\"]\n",
    "\n",
    "    poses = np.array([np.load(teleopp_data_path+fname, allow_pickle=True)[0] for fname in filenames])\n",
    "\n",
    "    pos_ori = []\n",
    "    for i, pose in enumerate(poses):\n",
    "        bottleneck_pose = tf_conversions.fromMsg(pose)\n",
    "        pos = bottleneck_pose.p\n",
    "        ori = bottleneck_pose.M.GetQuaternion()\n",
    "        pos_ori.append([*pos,  *ori])\n",
    "\n",
    "    pos_ori = np.array(pos_ori)\n",
    "\n",
    "    \n",
    "    # position weighted\n",
    "    pos_w = sum(w * p for p, w in zip(pos_ori[:,:3], weights))\n",
    "    # orientation weighted\n",
    "    A = sum(w * (np.outer(q, q)) for q, w in zip(pos_ori[:,3:], weights))\n",
    "    ori_w = np.linalg.eigh(A)[1][:, -1]\n",
    "\n",
    "    weighted_b_pose = tf_conversions.fromTf((pos_w, ori_w))\n",
    "    weighted_b_pose_msg = tf_conversions.toMsg(weighted_b_pose)\n",
    "\n",
    "    if(weighted_b_pose_msg.position.z < 0.11):\n",
    "        weighted_b_pose_msg.position.z = 0.11\n",
    "\n",
    "    # Change toi the name of the path u need the data to be saved to\n",
    "    task_name = str(folder)+\"_W\" + '/Traj_20'\n",
    "\n",
    "    bottleneck_pose = tf_conversions.fromMsg(weighted_b_pose_msg)\n",
    "    # Then create the vertical bottleneck pose\n",
    "    bottleneck_pose_vertical = kdl_utils.create_vertical_pose_from_x_y_z_theta(bottleneck_pose.p[0], bottleneck_pose.p[1], bottleneck_pose.p[2], bottleneck_pose.M.GetRPY()[2])\n",
    "    # And then create the transformation, in end-effector frame, between the vertical and demonstration bottleneck\n",
    "    bottleneck_transformation_vertical_to_demo = bottleneck_pose_vertical.Inverse() * bottleneck_pose\n",
    "\n",
    "    print('Saving data ...', task_name)\n",
    "    data_directory = '../Data/' + str(task_name) + '/Single_Demo/Raw'\n",
    "    utils.create_or_clear_directory(data_directory)\n",
    "    bottleneck_pose_vector = kdl_utils.create_vector_from_pose(bottleneck_pose)\n",
    "    np.save(data_directory + '/bottleneck_pose_vector.npy', bottleneck_pose_vector)\n",
    "    bottleneck_pose_vector_vertical = kdl_utils.create_vector_from_pose(bottleneck_pose_vertical)\n",
    "    np.save(data_directory + '/bottleneck_pose_vector_vertical.npy', bottleneck_pose_vector_vertical)\n",
    "\n",
    "    bottleneck_transformation_vector = kdl_utils.create_vector_from_pose(bottleneck_transformation_vertical_to_demo)\n",
    "    transformation_path = data_directory + '/bottleneck_transformation_vector_vertical_to_demo.npy'\n",
    "    np.save(transformation_path, bottleneck_transformation_vector)"
   ]
  },
  {
   "cell_type": "markdown",
   "metadata": {},
   "source": [
    "##### Looped Dataset creation from saved images and poses for users"
   ]
  },
  {
   "cell_type": "code",
   "execution_count": null,
   "metadata": {},
   "outputs": [],
   "source": [
    "from Dataset_Creation.image_to_pose_dataset_creator_coarse import ImageToPoseDatasetCreatorCoarse\n",
    "from Dataset_Creation.image_to_pose_dataset_creator_fine import ImageToPoseDatasetCreatorFine\n",
    "\n",
    "data_folders = np.arange(1,11,1)\n",
    "\n",
    "for folder in data_folders:\n",
    "    # For weighted BW\n",
    "    task_name = str(folder)+\"_W\" + '/Traj_20'\n",
    "    dataset_creator_coarse = ImageToPoseDatasetCreatorCoarse(task_name=task_name)\n",
    "    dataset_creator_coarse.run()\n",
    "    dataset_creator_fine = ImageToPoseDatasetCreatorFine(task_name=task_name)\n",
    "    dataset_creator_fine.run()\n",
    "\n",
    "    # For highest BW\n",
    "    task_name = str(folder) + '/Traj_20'\n",
    "    dataset_creator_coarse = ImageToPoseDatasetCreatorCoarse(task_name=task_name)\n",
    "    dataset_creator_coarse.run()\n",
    "    dataset_creator_fine = ImageToPoseDatasetCreatorFine(task_name=task_name)\n",
    "    dataset_creator_fine.run()"
   ]
  },
  {
   "cell_type": "markdown",
   "metadata": {},
   "source": [
    "#### Train networks on datasets"
   ]
  },
  {
   "cell_type": "code",
   "execution_count": null,
   "metadata": {},
   "outputs": [],
   "source": [
    "from Training.image_to_pose_trainer_coarse import ImageToPoseTrainerCoarse\n",
    "from Training.pose_to_uncertainty_trainer import PoseToUncertaintyTrainer\n",
    "from Training.image_to_pose_trainer_fine import ImageToPoseTrainerFine\n",
    "from Common import config\n",
    "\n",
    "data_folders = np.arange(8,11,1)\n",
    "\n",
    "for folder in data_folders:\n",
    "    task_name = str(folder) +\"_W\" + '/Traj_20'\n",
    "    # Train Coarse network\n",
    "    num_trajectories = config.NO_OF_TRAJECTORIES\n",
    "    trainer = ImageToPoseTrainerCoarse(task_name=task_name, num_trajectories=num_trajectories)\n",
    "    trainer.train()\n",
    "    trainer = PoseToUncertaintyTrainer(task_name=task_name, num_trajectories=num_trajectories)\n",
    "    trainer.run()\n",
    "\n",
    "    # Train fine network\n",
    "    num_trajectories = config.NO_OF_TRAJECTORIES\n",
    "    trainer = ImageToPoseTrainerFine(task_name=task_name, num_trajectories=num_trajectories)\n",
    "    trainer.train()"
   ]
  },
  {
   "cell_type": "markdown",
   "metadata": {},
   "source": [
    "#### Testing the laerned network"
   ]
  },
  {
   "cell_type": "code",
   "execution_count": null,
   "metadata": {},
   "outputs": [],
   "source": [
    "from Testing.coarse_tester import CoarseTester\n",
    "\n",
    "data_folders = np.arange(10,11,1)\n",
    "\n",
    "for folder in data_folders:\n",
    "    task_name = str(folder) +\"_W\" + '/Traj_20'\n",
    "    estimation_method = 'filtering_with_static_uncertainty'\n",
    "    tester = CoarseTester()\n",
    "    tester.run(task_name, estimation_method=estimation_method)"
   ]
  },
  {
   "cell_type": "markdown",
   "metadata": {},
   "source": [
    "#### Robot"
   ]
  },
  {
   "cell_type": "code",
   "execution_count": null,
   "metadata": {},
   "outputs": [],
   "source": [
    "from Robot.sawyer import Sawyer\n",
    "import rospy\n",
    "\n",
    "rospy.init_node('notebook_node')\n",
    "robot = Sawyer()\n"
   ]
  },
  {
   "cell_type": "code",
   "execution_count": null,
   "metadata": {},
   "outputs": [],
   "source": [
    "robot.robot.move_to_neutral()"
   ]
  },
  {
   "cell_type": "code",
   "execution_count": null,
   "metadata": {},
   "outputs": [],
   "source": [
    "import PyKDL\n",
    "bottleneck_pose_vector = np.load('../Data/3/Traj_20/Single_Demo/Raw/bottleneck_pose_vector.npy')\n",
    "bottleneck_pose = kdl_utils.create_pose_from_vector(bottleneck_pose_vector)\n",
    "print(tf_conversions.toMsg(bottleneck_pose))\n",
    "robot.move_to_pose(bottleneck_pose)"
   ]
  }
 ],
 "metadata": {
  "kernelspec": {
   "display_name": "Python 3.8.10 64-bit",
   "language": "python",
   "name": "python3"
  },
  "language_info": {
   "codemirror_mode": {
    "name": "ipython",
    "version": 3
   },
   "file_extension": ".py",
   "mimetype": "text/x-python",
   "name": "python",
   "nbconvert_exporter": "python",
   "pygments_lexer": "ipython3",
   "version": "3.8.10"
  },
  "orig_nbformat": 4,
  "vscode": {
   "interpreter": {
    "hash": "31f2aee4e71d21fbe5cf8b01ff0e069b9275f58929596ceb00d14d90e3e16cd6"
   }
  }
 },
 "nbformat": 4,
 "nbformat_minor": 2
}
