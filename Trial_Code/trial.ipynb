{
 "cells": [
  {
   "cell_type": "code",
   "execution_count": null,
   "metadata": {},
   "outputs": [],
   "source": [
    "%load_ext autoreload\n",
    "%autoreload 2\n",
    "\n",
    "import sys\n",
    "# adding to the system path\n",
    "sys.path.insert(0, '/home/prashanth/Thesis/Imitation-Learning/')"
   ]
  },
  {
   "cell_type": "code",
   "execution_count": null,
   "metadata": {},
   "outputs": [],
   "source": [
    "import rospy\n",
    "from Robot.sawyer import Sawyer\n",
    "from Robot.ft_sensor import FTSensor\n",
    "\n",
    "rospy.init_node('record_demos')\n",
    "robot = Sawyer()\n",
    "#ft_sensor = FTSensor(should_plot=False)"
   ]
  },
  {
   "cell_type": "code",
   "execution_count": null,
   "metadata": {},
   "outputs": [],
   "source": [
    "robot.robot.move_to_neutral()"
   ]
  },
  {
   "cell_type": "code",
   "execution_count": null,
   "metadata": {},
   "outputs": [],
   "source": [
    "robot.robot.enable_robot()"
   ]
  },
  {
   "cell_type": "code",
   "execution_count": null,
   "metadata": {},
   "outputs": [],
   "source": [
    "robot.robot.endpoint_effort()"
   ]
  },
  {
   "cell_type": "markdown",
   "metadata": {},
   "source": [
    "### Ergodic exploration using tensor train"
   ]
  },
  {
   "cell_type": "code",
   "execution_count": null,
   "metadata": {},
   "outputs": [],
   "source": [
    "import numpy as np\n",
    "from sklearn.mixture import GaussianMixture\n",
    "\n",
    "file_path = 'data/gear/no_gear/1_ee_poses.npy'\n",
    "recorded_traj = np.load(file_path, allow_pickle=True)\n",
    "recorded_traj = recorded_traj[200:400, :]\n",
    "\n",
    "gmm = GaussianMixture(n_components=2, random_state=0).fit(recorded_traj)"
   ]
  },
  {
   "cell_type": "code",
   "execution_count": null,
   "metadata": {},
   "outputs": [],
   "source": [
    "gmm.covariances_"
   ]
  },
  {
   "cell_type": "markdown",
   "metadata": {},
   "source": [
    "#### CollaborativeTransportation2D paper get reproduction data from position and dt."
   ]
  },
  {
   "cell_type": "code",
   "execution_count": null,
   "metadata": {},
   "outputs": [],
   "source": [
    "from Robot import kdl_utils\n",
    "from Common import config\n",
    "import numpy as np\n",
    "import rospy\n",
    "\n",
    "rate = rospy.Rate(config.CONTROL_RATE)\n",
    "dt = rate.sleep_dur.to_sec()\n"
   ]
  },
  {
   "cell_type": "markdown",
   "metadata": {},
   "source": [
    "####  parse Data and save to ´.mat´ file for VIC paper"
   ]
  },
  {
   "cell_type": "code",
   "execution_count": null,
   "metadata": {},
   "outputs": [],
   "source": [
    "from scipy import io\n",
    "from parser import vic_data_parser\n",
    "\n",
    "mdict = vic_data_parser(path='data/gear/', dt=1/20)\n",
    "path = '/home/prashanth/Thesis/Resources/Force/Codes/ras18_toy_example/data/'\n",
    "io.savemat(path+\"gear_data_01.mat\", mdict)"
   ]
  },
  {
   "cell_type": "markdown",
   "metadata": {},
   "source": [
    "####  parse Data and save to ´.mat´ file for Collabrative 2D paper"
   ]
  },
  {
   "cell_type": "code",
   "execution_count": null,
   "metadata": {},
   "outputs": [],
   "source": [
    "from scipy import io\n",
    "from parser import collaborative_planar\n",
    "\n",
    "mdict = collaborative_planar(path='data/gear/no_gear/', dt=1/20)\n",
    "path = '/home/prashanth/Thesis/Resources/Force/Codes/CollaborativeTransportation2D/data/3D/'\n",
    "io.savemat(path+\"gear_data_01.mat\", mdict)"
   ]
  },
  {
   "cell_type": "markdown",
   "metadata": {},
   "source": [
    "### Send commands to the Cartesian Impedence controller"
   ]
  },
  {
   "cell_type": "code",
   "execution_count": null,
   "metadata": {},
   "outputs": [],
   "source": [
    "import matlab.engine\n",
    "import rospy\n",
    "rospy.init_node('cart_imp_control')\n",
    "eng = matlab.engine.start_matlab()\n"
   ]
  },
  {
   "cell_type": "code",
   "execution_count": null,
   "metadata": {},
   "outputs": [],
   "source": [
    "from geometry_msgs.msg import PoseStamped\n",
    "import tf.transformations\n",
    "import numpy as np\n",
    "import rospy\n",
    "from franka_msgs.msg import FrankaState\n",
    "\n",
    "\n",
    "imp_control_pub = rospy.Publisher('/cartesian_impedance_example_controller/equilibrium_pose', PoseStamped, queue_size=10)\n",
    "\n",
    "msg = rospy.wait_for_message(\"franka_state_controller/franka_states\",\n",
    "                                 FrankaState)  # type: FrankaState\n",
    "\n",
    "link_name = 'panda_link0'\n",
    "marker_pose = PoseStamped()\n",
    "\n",
    "initial_quaternion = \\\n",
    "    tf.transformations.quaternion_from_matrix(\n",
    "        np.transpose(np.reshape(msg.O_T_EE,\n",
    "                                (4, 4))))\n",
    "initial_quaternion = initial_quaternion / \\\n",
    "    np.linalg.norm(initial_quaternion)\n",
    "marker_pose.pose.orientation.x = initial_quaternion[0]\n",
    "marker_pose.pose.orientation.y = initial_quaternion[1]\n",
    "marker_pose.pose.orientation.z = initial_quaternion[2]\n",
    "marker_pose.pose.orientation.w = initial_quaternion[3]\n",
    "marker_pose.header.frame_id = link_name\n",
    "marker_pose.header.stamp = rospy.Time(0)\n",
    "marker_pose.pose.position.x = msg.O_T_EE[12] \n",
    "marker_pose.pose.position.y = msg.O_T_EE[13] \n",
    "marker_pose.pose.position.z = msg.O_T_EE[14]\n",
    "\n",
    "#imp_control_pub.publish(marker_pose)\n"
   ]
  },
  {
   "cell_type": "code",
   "execution_count": null,
   "metadata": {},
   "outputs": [],
   "source": [
    "def publisher_callback(msg, link_name):\n",
    "    marker_pose.header.frame_id = link_name\n",
    "    marker_pose.header.stamp = rospy.Time(0)\n",
    "    imp_control_pub.publish(marker_pose)"
   ]
  },
  {
   "cell_type": "code",
   "execution_count": null,
   "metadata": {},
   "outputs": [],
   "source": [
    "rospy.Timer(rospy.Duration(0.01),\n",
    "                lambda msg: publisher_callback(msg, link_name))"
   ]
  },
  {
   "cell_type": "code",
   "execution_count": null,
   "metadata": {},
   "outputs": [],
   "source": [
    "curr_Pos = {}\n",
    "def get_state(msg):\n",
    "    curr_Pos['x'] = msg.O_T_EE[12]\n",
    "    curr_Pos['y'] = msg.O_T_EE[13]\n",
    "    curr_Pos['z'] = msg.O_T_EE[14]\n",
    "franka_state_sub = rospy.Subscriber(\"franka_state_controller/franka_states\", FrankaState, get_state)"
   ]
  },
  {
   "cell_type": "markdown",
   "metadata": {},
   "source": [
    "### Move to B-pose using Impedence controller"
   ]
  },
  {
   "cell_type": "code",
   "execution_count": null,
   "metadata": {},
   "outputs": [],
   "source": [
    "from Robot import kdl_utils\n",
    "import numpy as np\n",
    "import tf_conversions\n",
    "\n",
    "bottleneck_pose_vector = np.load('data/bottleneck_pose_vector.npy', allow_pickle=True)\n",
    "bottelneck_pose = kdl_utils.create_pose_from_vector(bottleneck_pose_vector)\n",
    "pose_msg = tf_conversions.toMsg(bottelneck_pose)\n",
    "marker_pose.pose.position = pose_msg.position"
   ]
  },
  {
   "cell_type": "code",
   "execution_count": null,
   "metadata": {},
   "outputs": [],
   "source": [
    "!rostopic pub -1 /franka_ros_interface/franka_control/error_recovery/goal franka_msgs/ErrorRecoveryActionGoal \"{}\""
   ]
  },
  {
   "cell_type": "markdown",
   "metadata": {},
   "source": [
    "### Allign with the gear pin, since we are planning only 2d path i.e. x & z"
   ]
  },
  {
   "cell_type": "code",
   "execution_count": null,
   "metadata": {},
   "outputs": [],
   "source": [
    "marker_pose.pose.position.y = -0.02720078072969254"
   ]
  },
  {
   "cell_type": "code",
   "execution_count": null,
   "metadata": {},
   "outputs": [],
   "source": [
    "curr_Pos"
   ]
  },
  {
   "cell_type": "code",
   "execution_count": null,
   "metadata": {},
   "outputs": [],
   "source": [
    "marker_pose.pose.position.x = 0.53638506\n",
    "marker_pose.pose.position.y = -0.04493493\n",
    "marker_pose.pose.position.z = 0.15896212"
   ]
  },
  {
   "cell_type": "code",
   "execution_count": null,
   "metadata": {},
   "outputs": [],
   "source": [
    "from mat2py.functions import pHRI_toyExample_PlanarManip01\n",
    "\n",
    "currPos = matlab.double([[curr_Pos['x']], [curr_Pos['y']], [curr_Pos['z']]])\n",
    "matlab_data = pHRI_toyExample_PlanarManip01(eng, currPos, dt=np.arange(0.0, 2, 0.01 )) # [t(1), currPos(2), currVel(2), currAcc(2), tarTmp(2), force(2)]\n",
    "matlab_data = np.squeeze(np.array(matlab_data))"
   ]
  },
  {
   "cell_type": "code",
   "execution_count": null,
   "metadata": {},
   "outputs": [],
   "source": [
    "matlab_data.T[-1,1:4]"
   ]
  },
  {
   "cell_type": "markdown",
   "metadata": {},
   "source": [
    "### Compute the whole trajectory at once"
   ]
  },
  {
   "cell_type": "code",
   "execution_count": null,
   "metadata": {},
   "outputs": [],
   "source": [
    "rospy.sleep(8.0)\n",
    "rate = rospy.Rate(100)\n",
    "traj = np.load('data/ergodic_exp/trajectory.npy', allow_pickle=True)\n",
    "for point in traj:\n",
    "    marker_pose.pose.position.x = point[0] \n",
    "    marker_pose.pose.position.y = point[1]\n",
    "    marker_pose.pose.position.z = point[2]\n",
    "    rate.sleep()"
   ]
  },
  {
   "cell_type": "code",
   "execution_count": null,
   "metadata": {},
   "outputs": [],
   "source": [
    "from mat2py.functions import pHRI_toyExample_PlanarManip01\n",
    "\n",
    "rate = rospy.Rate(100)\n",
    "currPos = matlab.double([[curr_Pos['x']], [curr_Pos['y']], [curr_Pos['z']]])\n",
    "dt=np.arange(0.0, 2.0, 0.01 )\n",
    "matlab_data = pHRI_toyExample_PlanarManip01(eng, currPos, dt)\n",
    "matlab_data = np.squeeze(np.array(matlab_data))\n",
    "trajectory_points = matlab_data.T[:, 1:4]\n",
    "\n",
    "for point in trajectory_points:\n",
    "    # print('X current:{}, desired:{}'.format(curr_Pos['x'], point[0]))\n",
    "    # print('Z current:{}, desired:{}'.format(curr_Pos['z'], point[1]))\n",
    "    marker_pose.pose.position.x = point[0] \n",
    "    marker_pose.pose.position.y = point[1]\n",
    "    marker_pose.pose.position.z = point[2]\n",
    "    rate.sleep()"
   ]
  },
  {
   "cell_type": "markdown",
   "metadata": {},
   "source": [
    "### Test and compute 1 dt at a time with matlab"
   ]
  },
  {
   "cell_type": "code",
   "execution_count": null,
   "metadata": {},
   "outputs": [],
   "source": [
    "from mat2py.functions import pHRI_toyExample_PlanarManip01\n",
    "rate = rospy.Rate(50)\n",
    "\n",
    "for dt in np.arange(0.0, 2.0, 0.02 ):\n",
    "    currPos = matlab.double([[curr_Pos['x']], [curr_Pos['y']], [curr_Pos['z']]])\n",
    "    matlab_data = pHRI_toyExample_PlanarManip01(eng, currPos, dt) # [t(1), currPos(2), currVel(2), currAcc(2), tarTmp(2), force(2)]\n",
    "    matlab_data = np.squeeze(np.array(matlab_data))\n",
    "    #matlab_data\n",
    "    # print('X current:{}, desired:{}'.format(curr_Pos['x'], matlab_data[1]))\n",
    "    # print('Z current:{}, desired:{}'.format(curr_Pos['z'], matlab_data[2]))\n",
    "    #print(matlab_data[1:3])\n",
    "    marker_pose.pose.position.x = matlab_data[1] \n",
    "    marker_pose.pose.position.z = matlab_data[2]\n",
    "    rate.sleep()"
   ]
  },
  {
   "cell_type": "code",
   "execution_count": null,
   "metadata": {},
   "outputs": [],
   "source": [
    "%matplotlib qt\n",
    "\n",
    "import matplotlib.pyplot as plt\n",
    "import scipy.signal as signal\n",
    "import numpy as np\n",
    "from cycler import cycler\n",
    "\n",
    "fig = plt.figure(figsize=plt.figaspect(0.5))\n",
    "markercycle = cycler(marker=['o', '+', 'x', '*', '.', 'X'])\n",
    "colorcycle = cycler(color=['blue', 'orange', 'green', 'magenta'])\n",
    "# Or use the default color cycle:\n",
    "# colorcycle = cycler(color=plt.rcParams['axes.prop_cycle'].by_key()['color'])\n",
    "\n",
    "plt.gca().set_prop_cycle(colorcycle * markercycle[:4]) # gca()=current axis\n",
    "\n",
    "ax = fig.add_subplot(1, 2, 1, projection ='3d')\n",
    "data = Pn\n",
    "resampled_data = signal.resample(data, 50)\n",
    "ax.scatter(data[:,0], data[:,1], data[:,2])\n",
    "\n",
    "\n",
    "ax = fig.add_subplot(1, 2, 2, projection ='3d')\n",
    "ax.scatter(resampled_data[:,0], resampled_data[:,1], resampled_data[:,2])\n",
    "ax.set_title('Test resempling')\n",
    "\n",
    "plt.show()\n",
    "#resampled_pos"
   ]
  },
  {
   "cell_type": "code",
   "execution_count": null,
   "metadata": {},
   "outputs": [],
   "source": [
    "from mat2py.functions import pHRI_toyExample_PlanarManip01, toyExampleMSDstiffnessLearning\n",
    "\n",
    "#pHRI_toyExample_PlanarManip01(eng)\n",
    "dD = toyExampleMSDstiffnessLearning(eng)"
   ]
  },
  {
   "cell_type": "markdown",
   "metadata": {},
   "source": [
    "### Data for collabrative2D paper"
   ]
  },
  {
   "cell_type": "code",
   "execution_count": null,
   "metadata": {},
   "outputs": [],
   "source": [
    "eng.loader({'demo': [], 'xR1': start_pos}, 100)"
   ]
  },
  {
   "cell_type": "code",
   "execution_count": null,
   "metadata": {},
   "outputs": [],
   "source": [
    "eng.quit()"
   ]
  }
 ],
 "metadata": {
  "kernelspec": {
   "display_name": "Python 3.8.10 64-bit",
   "language": "python",
   "name": "python3"
  },
  "language_info": {
   "codemirror_mode": {
    "name": "ipython",
    "version": 3
   },
   "file_extension": ".py",
   "mimetype": "text/x-python",
   "name": "python",
   "nbconvert_exporter": "python",
   "pygments_lexer": "ipython3",
   "version": "3.8.10"
  },
  "orig_nbformat": 4,
  "vscode": {
   "interpreter": {
    "hash": "31f2aee4e71d21fbe5cf8b01ff0e069b9275f58929596ceb00d14d90e3e16cd6"
   }
  }
 },
 "nbformat": 4,
 "nbformat_minor": 2
}
